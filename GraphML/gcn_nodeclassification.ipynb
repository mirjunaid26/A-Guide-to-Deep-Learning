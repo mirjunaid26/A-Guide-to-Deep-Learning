{
  "nbformat": 4,
  "nbformat_minor": 0,
  "metadata": {
    "colab": {
      "provenance": [],
      "authorship_tag": "ABX9TyOmbW+OEvtsK6p5sHLoceWg",
      "include_colab_link": true
    },
    "kernelspec": {
      "name": "python3",
      "display_name": "Python 3"
    },
    "language_info": {
      "name": "python"
    },
    "accelerator": "GPU"
  },
  "cells": [
    {
      "cell_type": "markdown",
      "metadata": {
        "id": "view-in-github",
        "colab_type": "text"
      },
      "source": [
        "<a href=\"https://colab.research.google.com/github/mirjunaid26/A-Guide-to-Deep-Learning/blob/master/GraphML/gcn_nodeclassification.ipynb\" target=\"_parent\"><img src=\"https://colab.research.google.com/assets/colab-badge.svg\" alt=\"Open In Colab\"/></a>"
      ]
    },
    {
      "cell_type": "markdown",
      "source": [
        "#Building Graph Convolution Network"
      ],
      "metadata": {
        "id": "iDBhwJu926kV"
      }
    },
    {
      "cell_type": "markdown",
      "source": [
        "## Initializing the Graph G\n",
        "\n",
        "Let’s start by building a simple undirected graph (G) using NetworkX. The graph G will consist of 6 nodes and the feature of each node will correspond to that particular node number. For example, node 1 will have a node feature of 1, node 2 will have a node feature of 2, and so on. To simplify, we are not going to assign edge features in this experiment."
      ],
      "metadata": {
        "id": "6xAOkuxU4kYs"
      }
    },
    {
      "cell_type": "code",
      "source": [
        "import networkx as nx\n",
        "import numpy as np\n",
        "import matplotlib.pyplot as plt\n",
        "from scipy.linalg import fractional_matrix_power\n",
        "\n",
        "import warnings \n",
        "warnings.filterwarnings(\"ignore\", category=UserWarning)"
      ],
      "metadata": {
        "id": "zsYzGBdN3ATJ"
      },
      "execution_count": 3,
      "outputs": []
    },
    {
      "cell_type": "code",
      "source": [
        "#Initialize the graphs\n",
        "G = nx.Graph(name='G')"
      ],
      "metadata": {
        "id": "H_M8Nw8W47ag"
      },
      "execution_count": 4,
      "outputs": []
    },
    {
      "cell_type": "code",
      "source": [],
      "metadata": {
        "id": "IOOLdvUE6JwW"
      },
      "execution_count": null,
      "outputs": []
    }
  ]
}